{
 "cells": [
  {
   "cell_type": "code",
   "execution_count": 6,
   "metadata": {},
   "outputs": [
    {
     "name": "stdout",
     "output_type": "stream",
     "text": [
      "Image saved successfully as output_image.jpg\n"
     ]
    }
   ],
   "source": [
    "import pyodbc\n",
    "\n",
    "# Database connection details\n",
    "conn = pyodbc.connect(\n",
    "    \"DRIVER={SQL Server};\"\n",
    "    \"SERVER=NSG-03\\\\SQLEXPRESS;\"\n",
    "    \"DATABASE=lesson2;\"\n",
    "    \"Trusted_Connection=yes;\"\n",
    ")\n",
    "\n",
    "cursor = conn.cursor()\n",
    "\n",
    "cursor.execute(\"SELECT photo FROM photos\")\n",
    "row = cursor.fetchone()\n",
    "\n",
    "if row and row[0]:\n",
    "    with open(\"output_image.jpg\", \"wb\") as file:\n",
    "        file.write(row[0]) \n",
    "    print(\"Image saved successfully as output_image.jpg\")\n",
    "else:\n",
    "    print(\"No image found!\")\n",
    "\n",
    "cursor.close()\n",
    "conn.close()\n"
   ]
  }
 ],
 "metadata": {
  "kernelspec": {
   "display_name": "Python 3",
   "language": "python",
   "name": "python3"
  },
  "language_info": {
   "codemirror_mode": {
    "name": "ipython",
    "version": 3
   },
   "file_extension": ".py",
   "mimetype": "text/x-python",
   "name": "python",
   "nbconvert_exporter": "python",
   "pygments_lexer": "ipython3",
   "version": "3.12.1"
  }
 },
 "nbformat": 4,
 "nbformat_minor": 2
}
